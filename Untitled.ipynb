{
 "cells": [
  {
   "cell_type": "markdown",
   "id": "df8090ab",
   "metadata": {},
   "source": [
    "## Variables"
   ]
  },
  {
   "cell_type": "code",
   "execution_count": 51,
   "id": "752ba586",
   "metadata": {},
   "outputs": [],
   "source": [
    "number = 45"
   ]
  },
  {
   "cell_type": "code",
   "execution_count": 52,
   "id": "074cc2e1",
   "metadata": {},
   "outputs": [
    {
     "data": {
      "text/plain": [
       "45"
      ]
     },
     "execution_count": 52,
     "metadata": {},
     "output_type": "execute_result"
    }
   ],
   "source": [
    "number"
   ]
  },
  {
   "cell_type": "code",
   "execution_count": 53,
   "id": "349615a1",
   "metadata": {},
   "outputs": [],
   "source": [
    "name = 'James'"
   ]
  },
  {
   "cell_type": "code",
   "execution_count": 55,
   "id": "19129010",
   "metadata": {},
   "outputs": [
    {
     "data": {
      "text/plain": [
       "'James'"
      ]
     },
     "execution_count": 55,
     "metadata": {},
     "output_type": "execute_result"
    }
   ],
   "source": [
    "name"
   ]
  },
  {
   "cell_type": "code",
   "execution_count": 64,
   "id": "86a5f346",
   "metadata": {},
   "outputs": [
    {
     "data": {
      "text/plain": [
       "'35'"
      ]
     },
     "execution_count": 64,
     "metadata": {},
     "output_type": "execute_result"
    }
   ],
   "source": [
    "age"
   ]
  },
  {
   "cell_type": "code",
   "execution_count": 57,
   "id": "a6c4361a",
   "metadata": {},
   "outputs": [],
   "source": [
    "color, age, sex = 'blue', '35', 'male'"
   ]
  },
  {
   "cell_type": "code",
   "execution_count": 58,
   "id": "83942945",
   "metadata": {},
   "outputs": [
    {
     "data": {
      "text/plain": [
       "'blue'"
      ]
     },
     "execution_count": 58,
     "metadata": {},
     "output_type": "execute_result"
    }
   ],
   "source": [
    "color"
   ]
  },
  {
   "cell_type": "code",
   "execution_count": 59,
   "id": "9f1ed65c",
   "metadata": {},
   "outputs": [
    {
     "data": {
      "text/plain": [
       "'35'"
      ]
     },
     "execution_count": 59,
     "metadata": {},
     "output_type": "execute_result"
    }
   ],
   "source": [
    "age"
   ]
  },
  {
   "cell_type": "code",
   "execution_count": 60,
   "id": "586a2392",
   "metadata": {},
   "outputs": [
    {
     "data": {
      "text/plain": [
       "'male'"
      ]
     },
     "execution_count": 60,
     "metadata": {},
     "output_type": "execute_result"
    }
   ],
   "source": [
    "sex"
   ]
  },
  {
   "cell_type": "code",
   "execution_count": 62,
   "id": "23aa89d0",
   "metadata": {},
   "outputs": [],
   "source": [
    "color = 'green'"
   ]
  },
  {
   "cell_type": "code",
   "execution_count": 63,
   "id": "7b12e368",
   "metadata": {},
   "outputs": [
    {
     "data": {
      "text/plain": [
       "'green'"
      ]
     },
     "execution_count": 63,
     "metadata": {},
     "output_type": "execute_result"
    }
   ],
   "source": [
    "color"
   ]
  },
  {
   "cell_type": "code",
   "execution_count": 65,
   "id": "74938e59",
   "metadata": {},
   "outputs": [],
   "source": [
    "age = 50"
   ]
  },
  {
   "cell_type": "code",
   "execution_count": 70,
   "id": "ed7d8bb9",
   "metadata": {},
   "outputs": [
    {
     "data": {
      "text/plain": [
       "60"
      ]
     },
     "execution_count": 70,
     "metadata": {},
     "output_type": "execute_result"
    }
   ],
   "source": [
    "age"
   ]
  },
  {
   "cell_type": "code",
   "execution_count": 68,
   "id": "7cfdf49a",
   "metadata": {},
   "outputs": [],
   "source": [
    "age = age + 10"
   ]
  },
  {
   "cell_type": "code",
   "execution_count": null,
   "id": "14ce1735",
   "metadata": {},
   "outputs": [],
   "source": [
    "age += 10"
   ]
  },
  {
   "cell_type": "code",
   "execution_count": 72,
   "id": "671797c4",
   "metadata": {},
   "outputs": [],
   "source": [
    "_age  = 100"
   ]
  },
  {
   "cell_type": "code",
   "execution_count": 73,
   "id": "c41b8f72",
   "metadata": {},
   "outputs": [
    {
     "data": {
      "text/plain": [
       "100"
      ]
     },
     "execution_count": 73,
     "metadata": {},
     "output_type": "execute_result"
    }
   ],
   "source": [
    "_age"
   ]
  },
  {
   "cell_type": "code",
   "execution_count": 74,
   "id": "43e28a86",
   "metadata": {},
   "outputs": [
    {
     "data": {
      "text/plain": [
       "60"
      ]
     },
     "execution_count": 74,
     "metadata": {},
     "output_type": "execute_result"
    }
   ],
   "source": [
    "age"
   ]
  },
  {
   "cell_type": "code",
   "execution_count": 76,
   "id": "30faf152",
   "metadata": {},
   "outputs": [],
   "source": [
    "age = [10,20,30]"
   ]
  },
  {
   "cell_type": "code",
   "execution_count": 77,
   "id": "cac0550a",
   "metadata": {},
   "outputs": [
    {
     "data": {
      "text/plain": [
       "[10, 20, 30]"
      ]
     },
     "execution_count": 77,
     "metadata": {},
     "output_type": "execute_result"
    }
   ],
   "source": [
    "age"
   ]
  },
  {
   "cell_type": "markdown",
   "id": "c2389292",
   "metadata": {},
   "source": [
    "## Data Types"
   ]
  },
  {
   "cell_type": "markdown",
   "id": "323a4228",
   "metadata": {},
   "source": [
    "Integers: positive or negative whole number."
   ]
  },
  {
   "cell_type": "code",
   "execution_count": 79,
   "id": "e9f91061",
   "metadata": {},
   "outputs": [],
   "source": [
    "age = 30"
   ]
  },
  {
   "cell_type": "code",
   "execution_count": 81,
   "id": "855c124c",
   "metadata": {},
   "outputs": [],
   "source": [
    "number = -50"
   ]
  },
  {
   "cell_type": "code",
   "execution_count": 82,
   "id": "47b8dd9f",
   "metadata": {},
   "outputs": [
    {
     "data": {
      "text/plain": [
       "-50"
      ]
     },
     "execution_count": 82,
     "metadata": {},
     "output_type": "execute_result"
    }
   ],
   "source": [
    "number"
   ]
  },
  {
   "cell_type": "code",
   "execution_count": 83,
   "id": "9d3ef3f6",
   "metadata": {},
   "outputs": [
    {
     "data": {
      "text/plain": [
       "int"
      ]
     },
     "execution_count": 83,
     "metadata": {},
     "output_type": "execute_result"
    }
   ],
   "source": [
    "type(number)"
   ]
  },
  {
   "cell_type": "code",
   "execution_count": 80,
   "id": "6e530073",
   "metadata": {},
   "outputs": [
    {
     "data": {
      "text/plain": [
       "int"
      ]
     },
     "execution_count": 80,
     "metadata": {},
     "output_type": "execute_result"
    }
   ],
   "source": [
    "type(age)"
   ]
  },
  {
   "cell_type": "markdown",
   "id": "51897b77",
   "metadata": {},
   "source": [
    "Float: numbers with decimal points."
   ]
  },
  {
   "cell_type": "code",
   "execution_count": 91,
   "id": "eb84e0b8",
   "metadata": {},
   "outputs": [],
   "source": [
    "decimal = 2.99"
   ]
  },
  {
   "cell_type": "code",
   "execution_count": 85,
   "id": "f0d4dd40",
   "metadata": {},
   "outputs": [
    {
     "data": {
      "text/plain": [
       "2.3"
      ]
     },
     "execution_count": 85,
     "metadata": {},
     "output_type": "execute_result"
    }
   ],
   "source": [
    "decimal"
   ]
  },
  {
   "cell_type": "code",
   "execution_count": 86,
   "id": "f58f729d",
   "metadata": {},
   "outputs": [
    {
     "data": {
      "text/plain": [
       "float"
      ]
     },
     "execution_count": 86,
     "metadata": {},
     "output_type": "execute_result"
    }
   ],
   "source": [
    "type(decimal)"
   ]
  },
  {
   "cell_type": "code",
   "execution_count": 87,
   "id": "582dedd1",
   "metadata": {},
   "outputs": [
    {
     "data": {
      "text/plain": [
       "30"
      ]
     },
     "execution_count": 87,
     "metadata": {},
     "output_type": "execute_result"
    }
   ],
   "source": [
    "age"
   ]
  },
  {
   "cell_type": "code",
   "execution_count": 88,
   "id": "cf236187",
   "metadata": {},
   "outputs": [
    {
     "data": {
      "text/plain": [
       "30.0"
      ]
     },
     "execution_count": 88,
     "metadata": {},
     "output_type": "execute_result"
    }
   ],
   "source": [
    "float(age)"
   ]
  },
  {
   "cell_type": "code",
   "execution_count": 92,
   "id": "5cced655",
   "metadata": {},
   "outputs": [
    {
     "data": {
      "text/plain": [
       "2.99"
      ]
     },
     "execution_count": 92,
     "metadata": {},
     "output_type": "execute_result"
    }
   ],
   "source": [
    "decimal"
   ]
  },
  {
   "cell_type": "code",
   "execution_count": 93,
   "id": "85276845",
   "metadata": {},
   "outputs": [
    {
     "data": {
      "text/plain": [
       "2"
      ]
     },
     "execution_count": 93,
     "metadata": {},
     "output_type": "execute_result"
    }
   ],
   "source": [
    "int(decimal)"
   ]
  },
  {
   "cell_type": "code",
   "execution_count": 94,
   "id": "914fa384",
   "metadata": {},
   "outputs": [
    {
     "data": {
      "text/plain": [
       "135.0"
      ]
     },
     "execution_count": 94,
     "metadata": {},
     "output_type": "execute_result"
    }
   ],
   "source": [
    "45 * 3.0"
   ]
  },
  {
   "cell_type": "code",
   "execution_count": 95,
   "id": "8f47d389",
   "metadata": {},
   "outputs": [
    {
     "data": {
      "text/plain": [
       "135"
      ]
     },
     "execution_count": 95,
     "metadata": {},
     "output_type": "execute_result"
    }
   ],
   "source": [
    "45* 3"
   ]
  },
  {
   "cell_type": "code",
   "execution_count": 96,
   "id": "587070cd",
   "metadata": {},
   "outputs": [
    {
     "data": {
      "text/plain": [
       "3.3333333333333335"
      ]
     },
     "execution_count": 96,
     "metadata": {},
     "output_type": "execute_result"
    }
   ],
   "source": [
    "10/3"
   ]
  },
  {
   "cell_type": "code",
   "execution_count": 97,
   "id": "52bfbd76",
   "metadata": {},
   "outputs": [
    {
     "data": {
      "text/plain": [
       "5.0"
      ]
     },
     "execution_count": 97,
     "metadata": {},
     "output_type": "execute_result"
    }
   ],
   "source": [
    "10/2"
   ]
  },
  {
   "cell_type": "code",
   "execution_count": 98,
   "id": "15717e84",
   "metadata": {},
   "outputs": [
    {
     "data": {
      "text/plain": [
       "5"
      ]
     },
     "execution_count": 98,
     "metadata": {},
     "output_type": "execute_result"
    }
   ],
   "source": [
    "10//2"
   ]
  },
  {
   "cell_type": "code",
   "execution_count": 99,
   "id": "f2a7be2c",
   "metadata": {},
   "outputs": [
    {
     "data": {
      "text/plain": [
       "3"
      ]
     },
     "execution_count": 99,
     "metadata": {},
     "output_type": "execute_result"
    }
   ],
   "source": [
    "10//3"
   ]
  },
  {
   "cell_type": "markdown",
   "id": "3e9f4c7f",
   "metadata": {},
   "source": [
    "Boolean: True or False"
   ]
  },
  {
   "cell_type": "code",
   "execution_count": 100,
   "id": "ae3f4e3d",
   "metadata": {},
   "outputs": [
    {
     "data": {
      "text/plain": [
       "5"
      ]
     },
     "execution_count": 100,
     "metadata": {},
     "output_type": "execute_result"
    }
   ],
   "source": [
    "5 + False"
   ]
  },
  {
   "cell_type": "code",
   "execution_count": 101,
   "id": "253d037e",
   "metadata": {},
   "outputs": [
    {
     "data": {
      "text/plain": [
       "11"
      ]
     },
     "execution_count": 101,
     "metadata": {},
     "output_type": "execute_result"
    }
   ],
   "source": [
    "10 + True"
   ]
  },
  {
   "cell_type": "markdown",
   "id": "1098e56f",
   "metadata": {},
   "source": [
    "NoneType"
   ]
  },
  {
   "cell_type": "code",
   "execution_count": 102,
   "id": "696b1d52",
   "metadata": {},
   "outputs": [],
   "source": [
    "value = None"
   ]
  },
  {
   "cell_type": "code",
   "execution_count": 103,
   "id": "d6099385",
   "metadata": {},
   "outputs": [
    {
     "data": {
      "text/plain": [
       "NoneType"
      ]
     },
     "execution_count": 103,
     "metadata": {},
     "output_type": "execute_result"
    }
   ],
   "source": [
    "type(value)"
   ]
  },
  {
   "cell_type": "markdown",
   "id": "b8d5a7ea",
   "metadata": {},
   "source": [
    "Strings: represents texts (string of characters)"
   ]
  },
  {
   "cell_type": "code",
   "execution_count": 104,
   "id": "d5d9cf14",
   "metadata": {},
   "outputs": [],
   "source": [
    "poem = 'Johannes Pachelbel'"
   ]
  },
  {
   "cell_type": "code",
   "execution_count": 105,
   "id": "a17779f4",
   "metadata": {},
   "outputs": [
    {
     "data": {
      "text/plain": [
       "'Johannes Pachelbel'"
      ]
     },
     "execution_count": 105,
     "metadata": {},
     "output_type": "execute_result"
    }
   ],
   "source": [
    "poem"
   ]
  },
  {
   "cell_type": "code",
   "execution_count": 108,
   "id": "297e187c",
   "metadata": {},
   "outputs": [],
   "source": [
    "poem2 = \"JohannesPachelbel\""
   ]
  },
  {
   "cell_type": "code",
   "execution_count": 109,
   "id": "ecd45a95",
   "metadata": {},
   "outputs": [
    {
     "data": {
      "text/plain": [
       "'JohannesPachelbel'"
      ]
     },
     "execution_count": 109,
     "metadata": {},
     "output_type": "execute_result"
    }
   ],
   "source": [
    "poem2"
   ]
  },
  {
   "cell_type": "code",
   "execution_count": 110,
   "id": "ac6ea00e",
   "metadata": {},
   "outputs": [],
   "source": [
    "poem3 = \"Mary's little lamb\""
   ]
  },
  {
   "cell_type": "code",
   "execution_count": 111,
   "id": "5d80668a",
   "metadata": {},
   "outputs": [
    {
     "data": {
      "text/plain": [
       "\"Mary's little lamb\""
      ]
     },
     "execution_count": 111,
     "metadata": {},
     "output_type": "execute_result"
    }
   ],
   "source": [
    "poem3"
   ]
  },
  {
   "cell_type": "code",
   "execution_count": 118,
   "id": "634fd89f",
   "metadata": {},
   "outputs": [],
   "source": [
    "poem4 = 'Mary\\'s little lamb'"
   ]
  },
  {
   "cell_type": "code",
   "execution_count": 114,
   "id": "f94588ae",
   "metadata": {},
   "outputs": [
    {
     "data": {
      "text/plain": [
       "18"
      ]
     },
     "execution_count": 114,
     "metadata": {},
     "output_type": "execute_result"
    }
   ],
   "source": [
    "len(poem)"
   ]
  },
  {
   "cell_type": "code",
   "execution_count": 115,
   "id": "2d9f9620",
   "metadata": {},
   "outputs": [
    {
     "data": {
      "text/plain": [
       "18"
      ]
     },
     "execution_count": 115,
     "metadata": {},
     "output_type": "execute_result"
    }
   ],
   "source": [
    "len(poem4)"
   ]
  },
  {
   "cell_type": "code",
   "execution_count": 121,
   "id": "276bd282",
   "metadata": {},
   "outputs": [
    {
     "data": {
      "text/plain": [
       "'Johannes Pachelbel'"
      ]
     },
     "execution_count": 121,
     "metadata": {},
     "output_type": "execute_result"
    }
   ],
   "source": [
    "poem"
   ]
  },
  {
   "cell_type": "code",
   "execution_count": 127,
   "id": "6a74a84f",
   "metadata": {},
   "outputs": [
    {
     "data": {
      "text/plain": [
       "'Johann'"
      ]
     },
     "execution_count": 127,
     "metadata": {},
     "output_type": "execute_result"
    }
   ],
   "source": [
    "poem[0:6]"
   ]
  },
  {
   "cell_type": "code",
   "execution_count": 129,
   "id": "98cf95e6",
   "metadata": {},
   "outputs": [
    {
     "data": {
      "text/plain": [
       "'J'"
      ]
     },
     "execution_count": 129,
     "metadata": {},
     "output_type": "execute_result"
    }
   ],
   "source": [
    "poem[0]"
   ]
  },
  {
   "cell_type": "code",
   "execution_count": 150,
   "id": "878422ac",
   "metadata": {},
   "outputs": [
    {
     "data": {
      "text/plain": [
       "True"
      ]
     },
     "execution_count": 150,
     "metadata": {},
     "output_type": "execute_result"
    }
   ],
   "source": [
    "'P' in poem"
   ]
  },
  {
   "cell_type": "markdown",
   "id": "3f7ca535",
   "metadata": {},
   "source": [
    "### Mutability and Order"
   ]
  },
  {
   "cell_type": "markdown",
   "id": "c445e001",
   "metadata": {},
   "source": [
    "Data Structures ( Containers)"
   ]
  },
  {
   "cell_type": "markdown",
   "id": "9fb90567",
   "metadata": {},
   "source": [
    "### List"
   ]
  },
  {
   "cell_type": "code",
   "execution_count": 131,
   "id": "6e818ec9",
   "metadata": {},
   "outputs": [],
   "source": [
    "students = ['james', 'mary', 23, 50.4, True]"
   ]
  },
  {
   "cell_type": "code",
   "execution_count": 132,
   "id": "069887b8",
   "metadata": {},
   "outputs": [
    {
     "data": {
      "text/plain": [
       "['james', 'mary', 23, 50.4, True]"
      ]
     },
     "execution_count": 132,
     "metadata": {},
     "output_type": "execute_result"
    }
   ],
   "source": [
    "students"
   ]
  },
  {
   "cell_type": "code",
   "execution_count": 133,
   "id": "f3e33f06",
   "metadata": {},
   "outputs": [
    {
     "data": {
      "text/plain": [
       "list"
      ]
     },
     "execution_count": 133,
     "metadata": {},
     "output_type": "execute_result"
    }
   ],
   "source": [
    "type(students)"
   ]
  },
  {
   "cell_type": "code",
   "execution_count": 136,
   "id": "a41f5e90",
   "metadata": {},
   "outputs": [
    {
     "data": {
      "text/plain": [
       "True"
      ]
     },
     "execution_count": 136,
     "metadata": {},
     "output_type": "execute_result"
    }
   ],
   "source": [
    "students[-1]"
   ]
  },
  {
   "cell_type": "code",
   "execution_count": 137,
   "id": "228f3a5c",
   "metadata": {},
   "outputs": [],
   "source": [
    "students[0] = 'gabriel'"
   ]
  },
  {
   "cell_type": "code",
   "execution_count": 138,
   "id": "a6a55e4c",
   "metadata": {},
   "outputs": [
    {
     "data": {
      "text/plain": [
       "['gabriel', 'mary', 23, 50.4, True]"
      ]
     },
     "execution_count": 138,
     "metadata": {},
     "output_type": "execute_result"
    }
   ],
   "source": [
    "students"
   ]
  },
  {
   "cell_type": "code",
   "execution_count": 142,
   "id": "39f54ae2",
   "metadata": {},
   "outputs": [
    {
     "data": {
      "text/plain": [
       "[23, 50.4, True]"
      ]
     },
     "execution_count": 142,
     "metadata": {},
     "output_type": "execute_result"
    }
   ],
   "source": [
    "students[2:]"
   ]
  },
  {
   "cell_type": "code",
   "execution_count": 143,
   "id": "88202788",
   "metadata": {},
   "outputs": [
    {
     "data": {
      "text/plain": [
       "True"
      ]
     },
     "execution_count": 143,
     "metadata": {},
     "output_type": "execute_result"
    }
   ],
   "source": [
    "'gabriel' in students"
   ]
  },
  {
   "cell_type": "code",
   "execution_count": 144,
   "id": "301a53ec",
   "metadata": {},
   "outputs": [
    {
     "data": {
      "text/plain": [
       "True"
      ]
     },
     "execution_count": 144,
     "metadata": {},
     "output_type": "execute_result"
    }
   ],
   "source": [
    "23 in students"
   ]
  },
  {
   "cell_type": "code",
   "execution_count": 145,
   "id": "9a320518",
   "metadata": {},
   "outputs": [
    {
     "data": {
      "text/plain": [
       "False"
      ]
     },
     "execution_count": 145,
     "metadata": {},
     "output_type": "execute_result"
    }
   ],
   "source": [
    "'james' in students"
   ]
  },
  {
   "cell_type": "code",
   "execution_count": 146,
   "id": "9762e681",
   "metadata": {},
   "outputs": [
    {
     "data": {
      "text/plain": [
       "False"
      ]
     },
     "execution_count": 146,
     "metadata": {},
     "output_type": "execute_result"
    }
   ],
   "source": [
    "50.4 not in students"
   ]
  },
  {
   "cell_type": "code",
   "execution_count": 147,
   "id": "d669b449",
   "metadata": {},
   "outputs": [
    {
     "data": {
      "text/plain": [
       "True"
      ]
     },
     "execution_count": 147,
     "metadata": {},
     "output_type": "execute_result"
    }
   ],
   "source": [
    "70 not in students"
   ]
  },
  {
   "cell_type": "markdown",
   "id": "4bdd5af7",
   "metadata": {},
   "source": [
    "### Tuples"
   ]
  },
  {
   "cell_type": "code",
   "execution_count": 151,
   "id": "0c7ab363",
   "metadata": {},
   "outputs": [],
   "source": [
    "customer = 'kevin', 75, 50.4"
   ]
  },
  {
   "cell_type": "code",
   "execution_count": 152,
   "id": "1e3b0dcf",
   "metadata": {},
   "outputs": [
    {
     "data": {
      "text/plain": [
       "('kevin', 75, 50.4)"
      ]
     },
     "execution_count": 152,
     "metadata": {},
     "output_type": "execute_result"
    }
   ],
   "source": [
    "customer"
   ]
  },
  {
   "cell_type": "code",
   "execution_count": 153,
   "id": "d23f9938",
   "metadata": {},
   "outputs": [
    {
     "data": {
      "text/plain": [
       "tuple"
      ]
     },
     "execution_count": 153,
     "metadata": {},
     "output_type": "execute_result"
    }
   ],
   "source": [
    "type(customer)"
   ]
  },
  {
   "cell_type": "code",
   "execution_count": 154,
   "id": "e0aa1dc2",
   "metadata": {},
   "outputs": [
    {
     "data": {
      "text/plain": [
       "'kevin'"
      ]
     },
     "execution_count": 154,
     "metadata": {},
     "output_type": "execute_result"
    }
   ],
   "source": [
    "customer[0]"
   ]
  },
  {
   "cell_type": "code",
   "execution_count": 156,
   "id": "e52ca95c",
   "metadata": {},
   "outputs": [],
   "source": [
    "customer2 = ('kevin', 70, 35.5)"
   ]
  },
  {
   "cell_type": "code",
   "execution_count": 158,
   "id": "ff9e2122",
   "metadata": {},
   "outputs": [
    {
     "data": {
      "text/plain": [
       "tuple"
      ]
     },
     "execution_count": 158,
     "metadata": {},
     "output_type": "execute_result"
    }
   ],
   "source": [
    "type(customer2)"
   ]
  },
  {
   "cell_type": "markdown",
   "id": "11b06625",
   "metadata": {},
   "source": [
    "### Sets"
   ]
  },
  {
   "cell_type": "code",
   "execution_count": 162,
   "id": "1c59463d",
   "metadata": {},
   "outputs": [],
   "source": [
    "students = ['malemia', 'okoro', 'daniel','bright', 'chidinma', 'okoro', 'malemia']"
   ]
  },
  {
   "cell_type": "code",
   "execution_count": 163,
   "id": "174a96bd",
   "metadata": {},
   "outputs": [
    {
     "data": {
      "text/plain": [
       "list"
      ]
     },
     "execution_count": 163,
     "metadata": {},
     "output_type": "execute_result"
    }
   ],
   "source": [
    "type(students)"
   ]
  },
  {
   "cell_type": "code",
   "execution_count": 165,
   "id": "50623d48",
   "metadata": {},
   "outputs": [],
   "source": [
    "students = set(students)"
   ]
  },
  {
   "cell_type": "code",
   "execution_count": 166,
   "id": "f4878a53",
   "metadata": {},
   "outputs": [
    {
     "data": {
      "text/plain": [
       "{'bright', 'chidinma', 'daniel', 'malemia', 'okoro'}"
      ]
     },
     "execution_count": 166,
     "metadata": {},
     "output_type": "execute_result"
    }
   ],
   "source": [
    "students"
   ]
  },
  {
   "cell_type": "markdown",
   "id": "651e6e3c",
   "metadata": {},
   "source": [
    "### Dictionaries"
   ]
  },
  {
   "cell_type": "code",
   "execution_count": 177,
   "id": "edf009d1",
   "metadata": {},
   "outputs": [],
   "source": [
    "students = {30:28, 'okoro':30, 'daniel':52, 'bright':8}"
   ]
  },
  {
   "cell_type": "code",
   "execution_count": 178,
   "id": "ef25900a",
   "metadata": {},
   "outputs": [
    {
     "data": {
      "text/plain": [
       "{30: 28, 'okoro': 30, 'daniel': 52, 'bright': 8}"
      ]
     },
     "execution_count": 178,
     "metadata": {},
     "output_type": "execute_result"
    }
   ],
   "source": [
    "students"
   ]
  },
  {
   "cell_type": "markdown",
   "id": "858421ab",
   "metadata": {},
   "source": [
    "### students"
   ]
  },
  {
   "cell_type": "code",
   "execution_count": 171,
   "id": "38682674",
   "metadata": {},
   "outputs": [
    {
     "data": {
      "text/plain": [
       "dict"
      ]
     },
     "execution_count": 171,
     "metadata": {},
     "output_type": "execute_result"
    }
   ],
   "source": [
    "type(students)"
   ]
  },
  {
   "cell_type": "code",
   "execution_count": 172,
   "id": "c5f981c3",
   "metadata": {},
   "outputs": [
    {
     "data": {
      "text/plain": [
       "28"
      ]
     },
     "execution_count": 172,
     "metadata": {},
     "output_type": "execute_result"
    }
   ],
   "source": [
    "students['malemia']"
   ]
  },
  {
   "cell_type": "code",
   "execution_count": 174,
   "id": "e5e791d7",
   "metadata": {},
   "outputs": [],
   "source": [
    "students['malemia'] = 'gift'"
   ]
  },
  {
   "cell_type": "code",
   "execution_count": 175,
   "id": "7258e2af",
   "metadata": {},
   "outputs": [
    {
     "data": {
      "text/plain": [
       "{'malemia': 'gift', 'okoro': 30, 'daniel': 52, 'bright': 8}"
      ]
     },
     "execution_count": 175,
     "metadata": {},
     "output_type": "execute_result"
    }
   ],
   "source": [
    "students"
   ]
  },
  {
   "cell_type": "code",
   "execution_count": 176,
   "id": "f8b5c6e2",
   "metadata": {},
   "outputs": [
    {
     "data": {
      "text/plain": [
       "True"
      ]
     },
     "execution_count": 176,
     "metadata": {},
     "output_type": "execute_result"
    }
   ],
   "source": [
    "'okoro' in students"
   ]
  },
  {
   "cell_type": "code",
   "execution_count": 180,
   "id": "9b0f2d11",
   "metadata": {},
   "outputs": [],
   "source": [
    "tweet = {'user': {'user_id':50, 'user_name':'james'}, 'location': {'state':'lagos', 'country':'nigeria'},\n",
    "        'account':{'followers':50, 'likes':300}}"
   ]
  },
  {
   "cell_type": "code",
   "execution_count": 181,
   "id": "2caa4f35",
   "metadata": {},
   "outputs": [
    {
     "data": {
      "text/plain": [
       "{'user': {'user_id': 50, 'user_name': 'james'},\n",
       " 'location': {'state': 'lagos', 'country': 'nigeria'},\n",
       " 'account': {'followers': 50, 'likes': 300}}"
      ]
     },
     "execution_count": 181,
     "metadata": {},
     "output_type": "execute_result"
    }
   ],
   "source": [
    "tweet"
   ]
  },
  {
   "cell_type": "code",
   "execution_count": 191,
   "id": "06266d47",
   "metadata": {},
   "outputs": [
    {
     "data": {
      "text/plain": [
       "50"
      ]
     },
     "execution_count": 191,
     "metadata": {},
     "output_type": "execute_result"
    }
   ],
   "source": [
    "tweet['user']['user_id']"
   ]
  },
  {
   "cell_type": "code",
   "execution_count": 188,
   "id": "514fbc00",
   "metadata": {},
   "outputs": [
    {
     "data": {
      "text/plain": [
       "{'state': 'lagos', 'country': 'nigeria'}"
      ]
     },
     "execution_count": 188,
     "metadata": {},
     "output_type": "execute_result"
    }
   ],
   "source": [
    "tweet['location']"
   ]
  },
  {
   "cell_type": "markdown",
   "id": "38782913",
   "metadata": {},
   "source": [
    "### Numpy Array"
   ]
  },
  {
   "cell_type": "code",
   "execution_count": 192,
   "id": "e34470a0",
   "metadata": {},
   "outputs": [],
   "source": [
    "students = ['malemia', 'okoro', 'daniel','bright', 'chidinma', 'okoro', 'malemia']"
   ]
  },
  {
   "cell_type": "code",
   "execution_count": 193,
   "id": "3f41c890",
   "metadata": {},
   "outputs": [],
   "source": [
    "import numpy as np"
   ]
  },
  {
   "cell_type": "code",
   "execution_count": 195,
   "id": "b0e85ddf",
   "metadata": {},
   "outputs": [],
   "source": [
    "students = np.array(students)"
   ]
  },
  {
   "cell_type": "code",
   "execution_count": 196,
   "id": "fad104e6",
   "metadata": {},
   "outputs": [
    {
     "data": {
      "text/plain": [
       "array(['malemia', 'okoro', 'daniel', 'bright', 'chidinma', 'okoro',\n",
       "       'malemia'], dtype='<U8')"
      ]
     },
     "execution_count": 196,
     "metadata": {},
     "output_type": "execute_result"
    }
   ],
   "source": [
    "students"
   ]
  },
  {
   "cell_type": "code",
   "execution_count": 197,
   "id": "aa105295",
   "metadata": {},
   "outputs": [
    {
     "data": {
      "text/plain": [
       "numpy.ndarray"
      ]
     },
     "execution_count": 197,
     "metadata": {},
     "output_type": "execute_result"
    }
   ],
   "source": [
    "type(students)"
   ]
  },
  {
   "cell_type": "code",
   "execution_count": 198,
   "id": "1ebaafe9",
   "metadata": {},
   "outputs": [],
   "source": [
    "color = np.repeat('red', 1599)"
   ]
  },
  {
   "cell_type": "code",
   "execution_count": 199,
   "id": "336f0b4d",
   "metadata": {},
   "outputs": [
    {
     "data": {
      "text/plain": [
       "array(['red', 'red', 'red', ..., 'red', 'red', 'red'], dtype='<U3')"
      ]
     },
     "execution_count": 199,
     "metadata": {},
     "output_type": "execute_result"
    }
   ],
   "source": [
    "color"
   ]
  },
  {
   "cell_type": "code",
   "execution_count": 200,
   "id": "81eeac95",
   "metadata": {},
   "outputs": [
    {
     "data": {
      "text/plain": [
       "array([[1, 2, 3],\n",
       "       [4, 5, 6],\n",
       "       [7, 8, 9]])"
      ]
     },
     "execution_count": 200,
     "metadata": {},
     "output_type": "execute_result"
    }
   ],
   "source": [
    "np.arange(1,10).reshape(3,3)"
   ]
  },
  {
   "cell_type": "markdown",
   "id": "b32fbc0e",
   "metadata": {},
   "source": [
    "### Pandas Series"
   ]
  },
  {
   "cell_type": "code",
   "execution_count": 201,
   "id": "98b67fde",
   "metadata": {},
   "outputs": [],
   "source": [
    "import pandas as pd"
   ]
  },
  {
   "cell_type": "code",
   "execution_count": 202,
   "id": "af2becff",
   "metadata": {},
   "outputs": [],
   "source": [
    "data = [30, 6, 'Yes', True]"
   ]
  },
  {
   "cell_type": "code",
   "execution_count": 203,
   "id": "c6e9920e",
   "metadata": {},
   "outputs": [],
   "source": [
    "index = ['eggs','apples','watermelon','oranges']"
   ]
  },
  {
   "cell_type": "code",
   "execution_count": 204,
   "id": "12855c51",
   "metadata": {},
   "outputs": [
    {
     "data": {
      "text/plain": [
       "eggs            30\n",
       "apples           6\n",
       "watermelon     Yes\n",
       "oranges       True\n",
       "dtype: object"
      ]
     },
     "execution_count": 204,
     "metadata": {},
     "output_type": "execute_result"
    }
   ],
   "source": [
    "pd.Series(data, index)"
   ]
  },
  {
   "cell_type": "code",
   "execution_count": null,
   "id": "d0b47ec7",
   "metadata": {},
   "outputs": [],
   "source": [
    "table['age']"
   ]
  },
  {
   "cell_type": "markdown",
   "id": "557458d2",
   "metadata": {},
   "source": [
    "### Dataframes"
   ]
  },
  {
   "cell_type": "code",
   "execution_count": 205,
   "id": "5e6eb009",
   "metadata": {},
   "outputs": [],
   "source": [
    "one = pd.Series = ([200, 300, 400])"
   ]
  },
  {
   "cell_type": "code",
   "execution_count": 209,
   "id": "57c8140b",
   "metadata": {},
   "outputs": [],
   "source": [
    "two = pd.Series = ([10,20,30])"
   ]
  },
  {
   "cell_type": "code",
   "execution_count": 210,
   "id": "2ba9ab73",
   "metadata": {},
   "outputs": [],
   "source": [
    "x = {'james': one, 'gabriel': two}"
   ]
  },
  {
   "cell_type": "code",
   "execution_count": 211,
   "id": "4c50ec0e",
   "metadata": {},
   "outputs": [],
   "source": [
    "table = pd.DataFrame(x)"
   ]
  },
  {
   "cell_type": "code",
   "execution_count": 212,
   "id": "0f58a72c",
   "metadata": {},
   "outputs": [
    {
     "data": {
      "text/html": [
       "<div>\n",
       "<style scoped>\n",
       "    .dataframe tbody tr th:only-of-type {\n",
       "        vertical-align: middle;\n",
       "    }\n",
       "\n",
       "    .dataframe tbody tr th {\n",
       "        vertical-align: top;\n",
       "    }\n",
       "\n",
       "    .dataframe thead th {\n",
       "        text-align: right;\n",
       "    }\n",
       "</style>\n",
       "<table border=\"1\" class=\"dataframe\">\n",
       "  <thead>\n",
       "    <tr style=\"text-align: right;\">\n",
       "      <th></th>\n",
       "      <th>james</th>\n",
       "      <th>gabriel</th>\n",
       "    </tr>\n",
       "  </thead>\n",
       "  <tbody>\n",
       "    <tr>\n",
       "      <th>0</th>\n",
       "      <td>200</td>\n",
       "      <td>10</td>\n",
       "    </tr>\n",
       "    <tr>\n",
       "      <th>1</th>\n",
       "      <td>300</td>\n",
       "      <td>20</td>\n",
       "    </tr>\n",
       "    <tr>\n",
       "      <th>2</th>\n",
       "      <td>400</td>\n",
       "      <td>30</td>\n",
       "    </tr>\n",
       "  </tbody>\n",
       "</table>\n",
       "</div>"
      ],
      "text/plain": [
       "   james  gabriel\n",
       "0    200       10\n",
       "1    300       20\n",
       "2    400       30"
      ]
     },
     "execution_count": 212,
     "metadata": {},
     "output_type": "execute_result"
    }
   ],
   "source": [
    "table"
   ]
  }
 ],
 "metadata": {
  "kernelspec": {
   "display_name": "Python 3 (ipykernel)",
   "language": "python",
   "name": "python3"
  },
  "language_info": {
   "codemirror_mode": {
    "name": "ipython",
    "version": 3
   },
   "file_extension": ".py",
   "mimetype": "text/x-python",
   "name": "python",
   "nbconvert_exporter": "python",
   "pygments_lexer": "ipython3",
   "version": "3.9.7"
  }
 },
 "nbformat": 4,
 "nbformat_minor": 5
}
